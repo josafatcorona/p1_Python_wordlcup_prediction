{
 "cells": [
  {
   "cell_type": "code",
   "execution_count": 45,
   "id": "1e01b7eb-551b-4a53-942d-ddd98c2ab4b0",
   "metadata": {},
   "outputs": [],
   "source": [
    "import pandas as pd\n",
    "from string import ascii_uppercase as alfabeto\n",
    "import pickle"
   ]
  },
  {
   "cell_type": "code",
   "execution_count": 35,
   "id": "206f0a32-210a-4ac0-8c58-50021162ee89",
   "metadata": {},
   "outputs": [],
   "source": [
    "#bajamos la info de wikipedia\n",
    "tables=pd.read_html('https://web.archive.org/web/20221115040351/https://en.wikipedia.org/wiki/2022_FIFA_World_Cup')"
   ]
  },
  {
   "cell_type": "code",
   "execution_count": 19,
   "id": "f76eccda-66e4-4cab-8e76-01b27e923fe3",
   "metadata": {},
   "outputs": [],
   "source": [
    "# A -> H\n",
    "#12 ->  7 * 8 + 12 = 68"
   ]
  },
  {
   "cell_type": "code",
   "execution_count": 39,
   "id": "a7a4256f-ad50-4356-a01f-8868315d7432",
   "metadata": {},
   "outputs": [],
   "source": [
    "#bajamos datos de las tablas | damos formato a columnas\n",
    "dict_teams = {}\n",
    "for letra, i in zip(alfabeto, range(12,68,7)):\n",
    "    df = tables[i]\n",
    "    df.rename(columns={df.columns[1]:'Team'},inplace=True)\n",
    "    df.pop('Qualification')\n",
    "    dict_teams[f'Group {letra}'] = df   "
   ]
  },
  {
   "cell_type": "code",
   "execution_count": 48,
   "id": "d3311e34-400f-47bd-9bbb-725190e698bf",
   "metadata": {},
   "outputs": [
    {
     "data": {
      "text/html": [
       "<div>\n",
       "<style scoped>\n",
       "    .dataframe tbody tr th:only-of-type {\n",
       "        vertical-align: middle;\n",
       "    }\n",
       "\n",
       "    .dataframe tbody tr th {\n",
       "        vertical-align: top;\n",
       "    }\n",
       "\n",
       "    .dataframe thead th {\n",
       "        text-align: right;\n",
       "    }\n",
       "</style>\n",
       "<table border=\"1\" class=\"dataframe\">\n",
       "  <thead>\n",
       "    <tr style=\"text-align: right;\">\n",
       "      <th></th>\n",
       "      <th>Pos</th>\n",
       "      <th>Team</th>\n",
       "      <th>Pld</th>\n",
       "      <th>W</th>\n",
       "      <th>D</th>\n",
       "      <th>L</th>\n",
       "      <th>GF</th>\n",
       "      <th>GA</th>\n",
       "      <th>GD</th>\n",
       "      <th>Pts</th>\n",
       "    </tr>\n",
       "  </thead>\n",
       "  <tbody>\n",
       "    <tr>\n",
       "      <th>0</th>\n",
       "      <td>1</td>\n",
       "      <td>Argentina</td>\n",
       "      <td>0</td>\n",
       "      <td>0</td>\n",
       "      <td>0</td>\n",
       "      <td>0</td>\n",
       "      <td>0</td>\n",
       "      <td>0</td>\n",
       "      <td>0</td>\n",
       "      <td>0</td>\n",
       "    </tr>\n",
       "    <tr>\n",
       "      <th>1</th>\n",
       "      <td>2</td>\n",
       "      <td>Saudi Arabia</td>\n",
       "      <td>0</td>\n",
       "      <td>0</td>\n",
       "      <td>0</td>\n",
       "      <td>0</td>\n",
       "      <td>0</td>\n",
       "      <td>0</td>\n",
       "      <td>0</td>\n",
       "      <td>0</td>\n",
       "    </tr>\n",
       "    <tr>\n",
       "      <th>2</th>\n",
       "      <td>3</td>\n",
       "      <td>Mexico</td>\n",
       "      <td>0</td>\n",
       "      <td>0</td>\n",
       "      <td>0</td>\n",
       "      <td>0</td>\n",
       "      <td>0</td>\n",
       "      <td>0</td>\n",
       "      <td>0</td>\n",
       "      <td>0</td>\n",
       "    </tr>\n",
       "    <tr>\n",
       "      <th>3</th>\n",
       "      <td>4</td>\n",
       "      <td>Poland</td>\n",
       "      <td>0</td>\n",
       "      <td>0</td>\n",
       "      <td>0</td>\n",
       "      <td>0</td>\n",
       "      <td>0</td>\n",
       "      <td>0</td>\n",
       "      <td>0</td>\n",
       "      <td>0</td>\n",
       "    </tr>\n",
       "  </tbody>\n",
       "</table>\n",
       "</div>"
      ],
      "text/plain": [
       "   Pos          Team  Pld  W  D  L  GF  GA  GD  Pts\n",
       "0    1     Argentina    0  0  0  0   0   0   0    0\n",
       "1    2  Saudi Arabia    0  0  0  0   0   0   0    0\n",
       "2    3        Mexico    0  0  0  0   0   0   0    0\n",
       "3    4        Poland    0  0  0  0   0   0   0    0"
      ]
     },
     "execution_count": 48,
     "metadata": {},
     "output_type": "execute_result"
    }
   ],
   "source": [
    "dict_teams['Grupo C']"
   ]
  },
  {
   "cell_type": "code",
   "execution_count": 49,
   "id": "0b135bb9-a45b-485a-86c3-d24ce90fe4d8",
   "metadata": {},
   "outputs": [],
   "source": [
    "with open('dict_table', 'wb') as output:\n",
    "    pickle.dump(dict_teams, output)"
   ]
  },
  {
   "cell_type": "code",
   "execution_count": null,
   "id": "b86c04a7-c98f-48d8-bbdf-ed59fd19c9eb",
   "metadata": {},
   "outputs": [],
   "source": []
  }
 ],
 "metadata": {
  "kernelspec": {
   "display_name": "Python 3 (ipykernel)",
   "language": "python",
   "name": "python3"
  },
  "language_info": {
   "codemirror_mode": {
    "name": "ipython",
    "version": 3
   },
   "file_extension": ".py",
   "mimetype": "text/x-python",
   "name": "python",
   "nbconvert_exporter": "python",
   "pygments_lexer": "ipython3",
   "version": "3.9.4"
  }
 },
 "nbformat": 4,
 "nbformat_minor": 5
}
