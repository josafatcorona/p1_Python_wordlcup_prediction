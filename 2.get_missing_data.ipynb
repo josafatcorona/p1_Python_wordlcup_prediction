{
 "cells": [
  {
   "cell_type": "code",
   "execution_count": 28,
   "id": "62640142-4026-49d7-a4bb-1c64b569f485",
   "metadata": {},
   "outputs": [],
   "source": [
    "from selenium import webdriver\n",
    "from selenium.webdriver.chrome.service import Service\n",
    "import time\n",
    "import pandas as pd"
   ]
  },
  {
   "cell_type": "code",
   "execution_count": 29,
   "id": "f4985e6b-59f6-4da9-ac00-4f9f0d234c40",
   "metadata": {},
   "outputs": [],
   "source": [
    "path = 'chromedriver/chromedriver.exe'\n",
    "service = Service(executable_path = path)\n",
    "driver = webdriver.Chrome(service = service)"
   ]
  },
  {
   "cell_type": "code",
   "execution_count": 30,
   "id": "b5da7067-5e23-439b-a156-43d668eb10ca",
   "metadata": {},
   "outputs": [],
   "source": [
    "def get_misssing_data(year):\n",
    "    web = f'https://en.wikipedia.org/wiki/{year}_FIFA_World_Cup'\n",
    "\n",
    "    driver.get(web)\n",
    "    matches = driver.find_elements(by='xpath', value='//td[@align=\"right\"]/.. | //td[@style=\"text-align:right;\"]/..')\n",
    "    # matches = driver.find_elements(by='xpath', value='//tr[@style=\"font-size:90%\"]')\n",
    "\n",
    "    home = []\n",
    "    score = []\n",
    "    away = []\n",
    "\n",
    "    for match in matches:\n",
    "        home.append(match.find_element(by='xpath', value='./td[1]').text)\n",
    "        score.append(match.find_element(by='xpath', value='./td[2]').text)\n",
    "        away.append(match.find_element(by='xpath', value='./td[3]').text)\n",
    "\n",
    "    dict_football = {'home': home, 'score': score, 'away': away}\n",
    "    df_football = pd.DataFrame(dict_football)\n",
    "    df_football['year'] = year\n",
    "    time.sleep(2)\n",
    "    return df_football"
   ]
  },
  {
   "cell_type": "code",
   "execution_count": 31,
   "id": "f9d20df5-39a0-4c1f-b11b-a3ac3241234d",
   "metadata": {},
   "outputs": [],
   "source": [
    "years = [1930, 1934, 1938, 1950, 1954, 1958, 1962, 1966, 1970, 1974,\n",
    "         1978, 1982, 1986, 1990, 1994, 1998, 2002, 2006, 2010, 2014,\n",
    "         2018]\n",
    "\n",
    "fifa = [get_misssing_data(year) for year in years]\n",
    "driver.quit()\n",
    "df_fifa = pd.concat(fifa, ignore_index=True)\n",
    "df_fifa.to_csv(\"fifa_worldcup_missing_data.csv\", index=False)"
   ]
  },
  {
   "cell_type": "code",
   "execution_count": null,
   "id": "d94d7550-9fec-41ef-a9b0-0b18cf76c9df",
   "metadata": {},
   "outputs": [],
   "source": []
  }
 ],
 "metadata": {
  "kernelspec": {
   "display_name": "Python 3 (ipykernel)",
   "language": "python",
   "name": "python3"
  },
  "language_info": {
   "codemirror_mode": {
    "name": "ipython",
    "version": 3
   },
   "file_extension": ".py",
   "mimetype": "text/x-python",
   "name": "python",
   "nbconvert_exporter": "python",
   "pygments_lexer": "ipython3",
   "version": "3.9.4"
  }
 },
 "nbformat": 4,
 "nbformat_minor": 5
}
